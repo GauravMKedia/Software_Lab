{
 "cells": [
  {
   "cell_type": "markdown",
   "id": "8569a7aa",
   "metadata": {},
   "source": [
    "## Name: Gaurav Kedia\n",
    "## Roll No. : E-39\n"
   ]
  },
  {
   "cell_type": "code",
   "execution_count": 3,
   "id": "5e0e083e",
   "metadata": {},
   "outputs": [],
   "source": [
    "import nltk\n",
    "from nltk.corpus import brown\n",
    "import numpy as np\n",
    "from sklearn.feature_extraction.text import CountVectorizer\n",
    "from sklearn.decomposition import PCA\n"
   ]
  },
  {
   "cell_type": "code",
   "execution_count": 4,
   "id": "f6d09225",
   "metadata": {},
   "outputs": [
    {
     "name": "stderr",
     "output_type": "stream",
     "text": [
      "[nltk_data] Error loading brown: <urlopen error [WinError 10060] A\n",
      "[nltk_data]     connection attempt failed because the connected party\n",
      "[nltk_data]     did not properly respond after a period of time, or\n",
      "[nltk_data]     established connection failed because connected host\n",
      "[nltk_data]     has failed to respond>\n"
     ]
    }
   ],
   "source": [
    "nltk.download('brown')\n",
    "chapters = brown.categories()"
   ]
  },
  {
   "cell_type": "code",
   "execution_count": 5,
   "id": "d09ecd66",
   "metadata": {},
   "outputs": [],
   "source": [
    "# Generate document term matrix for each chapter\n",
    "document_term_matrices = []\n",
    "for chapter in chapters:\n",
    "    chapter_docs = brown.fileids(categories=chapter)\n",
    "    chapter_texts = [brown.raw(fileid) for fileid in chapter_docs]\n",
    "    vectorizer = CountVectorizer(lowercase=True, stop_words='english')\n",
    "    X = vectorizer.fit_transform(chapter_texts)\n",
    "    document_term_matrices.append(X.toarray())\n",
    "\n"
   ]
  },
  {
   "cell_type": "code",
   "execution_count": 6,
   "id": "54b73a97",
   "metadata": {
    "scrolled": true
   },
   "outputs": [
    {
     "name": "stdout",
     "output_type": "stream",
     "text": [
      "[array([[0, 0, 0, ..., 0, 0, 0],\n",
      "       [0, 0, 0, ..., 0, 0, 0],\n",
      "       [0, 0, 0, ..., 0, 0, 0],\n",
      "       ...,\n",
      "       [0, 0, 0, ..., 0, 0, 0],\n",
      "       [0, 0, 0, ..., 0, 0, 0],\n",
      "       [0, 0, 0, ..., 0, 0, 1]], dtype=int64), array([[0, 0, 0, ..., 0, 0, 0],\n",
      "       [0, 0, 0, ..., 0, 0, 0],\n",
      "       [0, 0, 0, ..., 0, 0, 0],\n",
      "       ...,\n",
      "       [0, 0, 0, ..., 0, 0, 0],\n",
      "       [0, 0, 0, ..., 0, 0, 0],\n",
      "       [0, 0, 0, ..., 0, 0, 0]], dtype=int64), array([[3, 0, 0, ..., 0, 0, 0],\n",
      "       [3, 0, 0, ..., 1, 0, 1],\n",
      "       [0, 0, 2, ..., 0, 0, 0],\n",
      "       ...,\n",
      "       [0, 0, 0, ..., 0, 0, 0],\n",
      "       [0, 0, 0, ..., 0, 0, 0],\n",
      "       [0, 1, 0, ..., 0, 0, 0]], dtype=int64), array([[0, 0, 0, ..., 0, 0, 0],\n",
      "       [0, 1, 0, ..., 0, 0, 0],\n",
      "       [0, 0, 0, ..., 0, 0, 0],\n",
      "       ...,\n",
      "       [0, 0, 0, ..., 0, 0, 2],\n",
      "       [0, 0, 0, ..., 0, 0, 0],\n",
      "       [0, 0, 0, ..., 0, 0, 0]], dtype=int64), array([[0, 1, 0, ..., 0, 0, 0],\n",
      "       [0, 0, 0, ..., 0, 0, 0],\n",
      "       [0, 0, 0, ..., 0, 0, 0],\n",
      "       ...,\n",
      "       [1, 0, 0, ..., 0, 0, 0],\n",
      "       [0, 0, 0, ..., 0, 1, 0],\n",
      "       [0, 0, 0, ..., 0, 0, 0]], dtype=int64), array([[ 0,  0,  0, ...,  0,  0,  0],\n",
      "       [ 0,  0,  0, ...,  0,  0,  0],\n",
      "       [ 0,  4,  0, ...,  0,  0,  0],\n",
      "       ...,\n",
      "       [ 0,  0,  0, ...,  0,  0,  0],\n",
      "       [ 0,  8,  0, ...,  0,  0,  0],\n",
      "       [11,  0,  0, ...,  0,  0,  0]], dtype=int64), array([[0, 0, 0, ..., 0, 0, 0],\n",
      "       [1, 0, 0, ..., 0, 0, 2],\n",
      "       [0, 0, 1, ..., 0, 0, 0],\n",
      "       ...,\n",
      "       [0, 0, 0, ..., 0, 0, 0],\n",
      "       [0, 1, 0, ..., 0, 0, 0],\n",
      "       [0, 0, 0, ..., 0, 1, 0]], dtype=int64), array([[0, 0, 0, ..., 0, 0, 0],\n",
      "       [0, 0, 0, ..., 0, 0, 0],\n",
      "       [0, 0, 1, ..., 0, 1, 0],\n",
      "       ...,\n",
      "       [0, 0, 0, ..., 0, 0, 0],\n",
      "       [0, 0, 0, ..., 0, 0, 0],\n",
      "       [0, 0, 0, ..., 0, 1, 0]], dtype=int64), array([[0, 0, 0, ..., 0, 0, 0],\n",
      "       [0, 0, 0, ..., 0, 0, 0],\n",
      "       [0, 0, 0, ..., 0, 0, 0],\n",
      "       ...,\n",
      "       [0, 0, 0, ..., 0, 0, 0],\n",
      "       [3, 0, 0, ..., 0, 0, 0],\n",
      "       [0, 0, 0, ..., 0, 0, 0]], dtype=int64), array([[0, 0, 0, ..., 0, 0, 0],\n",
      "       [0, 2, 1, ..., 0, 0, 0],\n",
      "       [0, 0, 0, ..., 1, 1, 1],\n",
      "       ...,\n",
      "       [0, 0, 0, ..., 0, 0, 0],\n",
      "       [0, 0, 0, ..., 0, 0, 0],\n",
      "       [0, 0, 0, ..., 0, 0, 0]], dtype=int64), array([[0, 0, 0, ..., 0, 0, 0],\n",
      "       [9, 0, 0, ..., 0, 0, 0],\n",
      "       [3, 0, 0, ..., 0, 0, 0],\n",
      "       ...,\n",
      "       [4, 0, 0, ..., 0, 0, 0],\n",
      "       [2, 0, 0, ..., 0, 0, 0],\n",
      "       [7, 0, 0, ..., 0, 0, 0]], dtype=int64), array([[ 0,  0,  0, ...,  0,  0,  0],\n",
      "       [ 0,  0,  0, ...,  0,  0,  0],\n",
      "       [ 2,  0,  0, ...,  0,  0,  0],\n",
      "       ...,\n",
      "       [ 0,  0,  0, ..., 23,  2,  1],\n",
      "       [ 0,  0,  0, ...,  0,  0,  0],\n",
      "       [ 3,  0,  0, ...,  0,  0,  0]], dtype=int64), array([[0, 0, 0, ..., 0, 0, 0],\n",
      "       [0, 0, 0, ..., 1, 0, 0],\n",
      "       [0, 0, 0, ..., 0, 0, 0],\n",
      "       ...,\n",
      "       [2, 0, 0, ..., 0, 0, 0],\n",
      "       [0, 0, 0, ..., 0, 0, 0],\n",
      "       [5, 0, 0, ..., 0, 0, 0]], dtype=int64), array([[0, 0, 0, ..., 0, 0, 0],\n",
      "       [0, 0, 0, ..., 0, 0, 0],\n",
      "       [0, 0, 0, ..., 4, 0, 0],\n",
      "       ...,\n",
      "       [0, 0, 1, ..., 0, 0, 0],\n",
      "       [0, 0, 0, ..., 0, 0, 0],\n",
      "       [0, 0, 0, ..., 0, 0, 0]], dtype=int64), array([[0, 0, 1, ..., 0, 0, 0],\n",
      "       [0, 0, 0, ..., 0, 0, 1],\n",
      "       [1, 0, 0, ..., 2, 1, 0],\n",
      "       [0, 1, 0, ..., 0, 0, 0],\n",
      "       [0, 0, 0, ..., 1, 0, 0],\n",
      "       [0, 0, 0, ..., 0, 0, 0]], dtype=int64)]\n"
     ]
    }
   ],
   "source": [
    "print(document_term_matrices)"
   ]
  },
  {
   "cell_type": "code",
   "execution_count": 8,
   "id": "476b18d8",
   "metadata": {},
   "outputs": [],
   "source": [
    "# Store document term matrices in a dictionary with chapter names as keys\n",
    "document_term_matrix_dict = {chapter: dtm for chapter, dtm in zip(chapters, document_term_matrices)}\n"
   ]
  },
  {
   "cell_type": "code",
   "execution_count": 9,
   "id": "c6d3ea02",
   "metadata": {
    "scrolled": true
   },
   "outputs": [
    {
     "name": "stdout",
     "output_type": "stream",
     "text": [
      "{'adventure': array([[0, 0, 0, ..., 0, 0, 0],\n",
      "       [0, 0, 0, ..., 0, 0, 0],\n",
      "       [0, 0, 0, ..., 0, 0, 0],\n",
      "       ...,\n",
      "       [0, 0, 0, ..., 0, 0, 0],\n",
      "       [0, 0, 0, ..., 0, 0, 0],\n",
      "       [0, 0, 0, ..., 0, 0, 1]], dtype=int64), 'belles_lettres': array([[0, 0, 0, ..., 0, 0, 0],\n",
      "       [0, 0, 0, ..., 0, 0, 0],\n",
      "       [0, 0, 0, ..., 0, 0, 0],\n",
      "       ...,\n",
      "       [0, 0, 0, ..., 0, 0, 0],\n",
      "       [0, 0, 0, ..., 0, 0, 0],\n",
      "       [0, 0, 0, ..., 0, 0, 0]], dtype=int64), 'editorial': array([[3, 0, 0, ..., 0, 0, 0],\n",
      "       [3, 0, 0, ..., 1, 0, 1],\n",
      "       [0, 0, 2, ..., 0, 0, 0],\n",
      "       ...,\n",
      "       [0, 0, 0, ..., 0, 0, 0],\n",
      "       [0, 0, 0, ..., 0, 0, 0],\n",
      "       [0, 1, 0, ..., 0, 0, 0]], dtype=int64), 'fiction': array([[0, 0, 0, ..., 0, 0, 0],\n",
      "       [0, 1, 0, ..., 0, 0, 0],\n",
      "       [0, 0, 0, ..., 0, 0, 0],\n",
      "       ...,\n",
      "       [0, 0, 0, ..., 0, 0, 2],\n",
      "       [0, 0, 0, ..., 0, 0, 0],\n",
      "       [0, 0, 0, ..., 0, 0, 0]], dtype=int64), 'government': array([[0, 1, 0, ..., 0, 0, 0],\n",
      "       [0, 0, 0, ..., 0, 0, 0],\n",
      "       [0, 0, 0, ..., 0, 0, 0],\n",
      "       ...,\n",
      "       [1, 0, 0, ..., 0, 0, 0],\n",
      "       [0, 0, 0, ..., 0, 1, 0],\n",
      "       [0, 0, 0, ..., 0, 0, 0]], dtype=int64), 'hobbies': array([[ 0,  0,  0, ...,  0,  0,  0],\n",
      "       [ 0,  0,  0, ...,  0,  0,  0],\n",
      "       [ 0,  4,  0, ...,  0,  0,  0],\n",
      "       ...,\n",
      "       [ 0,  0,  0, ...,  0,  0,  0],\n",
      "       [ 0,  8,  0, ...,  0,  0,  0],\n",
      "       [11,  0,  0, ...,  0,  0,  0]], dtype=int64), 'humor': array([[0, 0, 0, ..., 0, 0, 0],\n",
      "       [1, 0, 0, ..., 0, 0, 2],\n",
      "       [0, 0, 1, ..., 0, 0, 0],\n",
      "       ...,\n",
      "       [0, 0, 0, ..., 0, 0, 0],\n",
      "       [0, 1, 0, ..., 0, 0, 0],\n",
      "       [0, 0, 0, ..., 0, 1, 0]], dtype=int64), 'learned': array([[0, 0, 0, ..., 0, 0, 0],\n",
      "       [0, 0, 0, ..., 0, 0, 0],\n",
      "       [0, 0, 1, ..., 0, 1, 0],\n",
      "       ...,\n",
      "       [0, 0, 0, ..., 0, 0, 0],\n",
      "       [0, 0, 0, ..., 0, 0, 0],\n",
      "       [0, 0, 0, ..., 0, 1, 0]], dtype=int64), 'lore': array([[0, 0, 0, ..., 0, 0, 0],\n",
      "       [0, 0, 0, ..., 0, 0, 0],\n",
      "       [0, 0, 0, ..., 0, 0, 0],\n",
      "       ...,\n",
      "       [0, 0, 0, ..., 0, 0, 0],\n",
      "       [3, 0, 0, ..., 0, 0, 0],\n",
      "       [0, 0, 0, ..., 0, 0, 0]], dtype=int64), 'mystery': array([[0, 0, 0, ..., 0, 0, 0],\n",
      "       [0, 2, 1, ..., 0, 0, 0],\n",
      "       [0, 0, 0, ..., 1, 1, 1],\n",
      "       ...,\n",
      "       [0, 0, 0, ..., 0, 0, 0],\n",
      "       [0, 0, 0, ..., 0, 0, 0],\n",
      "       [0, 0, 0, ..., 0, 0, 0]], dtype=int64), 'news': array([[0, 0, 0, ..., 0, 0, 0],\n",
      "       [9, 0, 0, ..., 0, 0, 0],\n",
      "       [3, 0, 0, ..., 0, 0, 0],\n",
      "       ...,\n",
      "       [4, 0, 0, ..., 0, 0, 0],\n",
      "       [2, 0, 0, ..., 0, 0, 0],\n",
      "       [7, 0, 0, ..., 0, 0, 0]], dtype=int64), 'religion': array([[ 0,  0,  0, ...,  0,  0,  0],\n",
      "       [ 0,  0,  0, ...,  0,  0,  0],\n",
      "       [ 2,  0,  0, ...,  0,  0,  0],\n",
      "       ...,\n",
      "       [ 0,  0,  0, ..., 23,  2,  1],\n",
      "       [ 0,  0,  0, ...,  0,  0,  0],\n",
      "       [ 3,  0,  0, ...,  0,  0,  0]], dtype=int64), 'reviews': array([[0, 0, 0, ..., 0, 0, 0],\n",
      "       [0, 0, 0, ..., 1, 0, 0],\n",
      "       [0, 0, 0, ..., 0, 0, 0],\n",
      "       ...,\n",
      "       [2, 0, 0, ..., 0, 0, 0],\n",
      "       [0, 0, 0, ..., 0, 0, 0],\n",
      "       [5, 0, 0, ..., 0, 0, 0]], dtype=int64), 'romance': array([[0, 0, 0, ..., 0, 0, 0],\n",
      "       [0, 0, 0, ..., 0, 0, 0],\n",
      "       [0, 0, 0, ..., 4, 0, 0],\n",
      "       ...,\n",
      "       [0, 0, 1, ..., 0, 0, 0],\n",
      "       [0, 0, 0, ..., 0, 0, 0],\n",
      "       [0, 0, 0, ..., 0, 0, 0]], dtype=int64), 'science_fiction': array([[0, 0, 1, ..., 0, 0, 0],\n",
      "       [0, 0, 0, ..., 0, 0, 1],\n",
      "       [1, 0, 0, ..., 2, 1, 0],\n",
      "       [0, 1, 0, ..., 0, 0, 0],\n",
      "       [0, 0, 0, ..., 1, 0, 0],\n",
      "       [0, 0, 0, ..., 0, 0, 0]], dtype=int64)}\n"
     ]
    }
   ],
   "source": [
    "print(document_term_matrix_dict)"
   ]
  },
  {
   "cell_type": "code",
   "execution_count": 10,
   "id": "91b0ce85",
   "metadata": {},
   "outputs": [
    {
     "name": "stdout",
     "output_type": "stream",
     "text": [
      "Document Term Matrix for Chapter news: \n",
      "[[0 0 0 ... 0 0 0]\n",
      " [9 0 0 ... 0 0 0]\n",
      " [3 0 0 ... 0 0 0]\n",
      " ...\n",
      " [4 0 0 ... 0 0 0]\n",
      " [2 0 0 ... 0 0 0]\n",
      " [7 0 0 ... 0 0 0]]\n"
     ]
    }
   ],
   "source": [
    "# Access document term matrix for a specific chapter\n",
    "chapter_name = \"news\"\n",
    "dtm = document_term_matrix_dict[chapter_name]\n",
    "print(\"Document Term Matrix for Chapter {}: \".format(chapter_name))\n",
    "print(dtm)"
   ]
  },
  {
   "cell_type": "code",
   "execution_count": null,
   "id": "320cb470",
   "metadata": {},
   "outputs": [],
   "source": []
  }
 ],
 "metadata": {
  "kernelspec": {
   "display_name": "Python 3 (ipykernel)",
   "language": "python",
   "name": "python3"
  },
  "language_info": {
   "codemirror_mode": {
    "name": "ipython",
    "version": 3
   },
   "file_extension": ".py",
   "mimetype": "text/x-python",
   "name": "python",
   "nbconvert_exporter": "python",
   "pygments_lexer": "ipython3",
   "version": "3.10.6"
  }
 },
 "nbformat": 4,
 "nbformat_minor": 5
}
